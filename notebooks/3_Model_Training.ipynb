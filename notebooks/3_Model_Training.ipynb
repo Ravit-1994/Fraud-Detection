Load the processed dataset.
Split the data into training and testing sets.
Train models (e.g., Random Forest, XGBoost) using default and tuned hyperparameters.
Save the trained models to the models/ folder.
