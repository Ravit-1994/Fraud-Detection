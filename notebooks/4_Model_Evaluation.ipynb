Evaluate models on the test dataset.
Calculate metrics like precision, recall, F1-score, and AUC.
Plot confusion matrix and ROC curve.
