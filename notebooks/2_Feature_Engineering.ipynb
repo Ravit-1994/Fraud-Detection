Create new features such as is_low_amount.
Apply transformations (e.g., log-transform on skewed columns).
Handle categorical variables (if any) using encoding techniques.
Save the processed data to the data/processed/ folder.
