1_EDA.ipynb:

Load the raw data.
Analyze class imbalance, missing values, and data distribution.
Visualize key relationships (e.g., transaction amount vs fraud status)
